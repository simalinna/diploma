{
 "cells": [
  {
   "cell_type": "markdown",
   "id": "6727b4a0-b215-4a7a-82df-3d4ba51736a0",
   "metadata": {},
   "source": [
    "# Обучение"
   ]
  },
  {
   "cell_type": "code",
   "execution_count": 10,
   "id": "38b5e9a5-528c-48d4-8a82-552d0fc556cb",
   "metadata": {},
   "outputs": [
    {
     "name": "stdout",
     "output_type": "stream",
     "text": [
      "Загрузка датасета...\n",
      "\n",
      "Обучение модели на 5 эпохах:\n",
      "\n",
      "Ошибка 62.13, Шаг 440/440: 100%|█████████████████| 5/5 [09:09<00:00, 109.95s/it]\n"
     ]
    }
   ],
   "source": [
    "!python ../code/train.py --epoch 5 --batch-size 512 --load-exp none --save-exp exp1"
   ]
  },
  {
   "cell_type": "markdown",
   "id": "42ae1a77-45b6-4181-9626-30b01d4d1325",
   "metadata": {},
   "source": [
    "# Тестирование"
   ]
  },
  {
   "cell_type": "code",
   "execution_count": 11,
   "id": "7b71e9e0-d5fc-4347-84e0-7bddef594527",
   "metadata": {},
   "outputs": [
    {
     "name": "stdout",
     "output_type": "stream",
     "text": [
      "Загрузка датасетов...\n",
      "\n",
      "Обучение линейного классификатора на 10 эпохах:\n",
      "\n",
      "Ошибка 0.50, Шаг 980/980: 100%|█████████████████| 10/10 [03:10<00:00, 19.06s/it]\n",
      "\n",
      "Точность Top-1: 71.94 %\n",
      "Точность Top-5: 98.21 %\n",
      "\n"
     ]
    }
   ],
   "source": [
    "!python ../code/eval.py --epoch 10 --batch-size 512 --load-exp exp1"
   ]
  }
 ],
 "metadata": {
  "kernelspec": {
   "display_name": "venv(python,torch,gpu)",
   "language": "python",
   "name": "venv"
  },
  "language_info": {
   "codemirror_mode": {
    "name": "ipython",
    "version": 3
   },
   "file_extension": ".py",
   "mimetype": "text/x-python",
   "name": "python",
   "nbconvert_exporter": "python",
   "pygments_lexer": "ipython3",
   "version": "3.11.2"
  }
 },
 "nbformat": 4,
 "nbformat_minor": 5
}
